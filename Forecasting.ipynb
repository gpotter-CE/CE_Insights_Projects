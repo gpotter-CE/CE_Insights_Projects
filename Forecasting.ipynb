{
 "cells": [
  {
   "cell_type": "code",
   "execution_count": null,
   "metadata": {},
   "outputs": [
    {
     "name": "stdout",
     "output_type": "stream",
     "text": [
      "Collecting ProphetNote: you may need to restart the kernel to use updated packages.\n"
     ]
    },
    {
     "name": "stderr",
     "output_type": "stream",
     "text": [
      "ERROR: Could not install packages due to an OSError: [Errno 2] No such file or directory: 'C:\\\\Users\\\\Greg\\\\AppData\\\\Local\\\\Packages\\\\PythonSoftwareFoundation.Python.3.11_qbz5n2kfra8p0\\\\LocalCache\\\\local-packages\\\\Python311\\\\site-packages\\\\prophet\\\\stan_model\\\\cmdstan-2.33.1\\\\stan\\\\lib\\\\stan_math\\\\lib\\\\tbb_2020.3\\\\include\\\\tbb\\\\internal\\\\_deprecated_header_message_guard.h'\n",
      "HINT: This error might have occurred since this system does not have Windows Long Path support enabled. You can find information on how to enable this at https://pip.pypa.io/warnings/enable-long-paths\n",
      "\n"
     ]
    },
    {
     "name": "stdout",
     "output_type": "stream",
     "text": [
      "\n",
      "  Using cached prophet-1.1.6-py3-none-win_amd64.whl.metadata (3.6 kB)\n",
      "Collecting cmdstanpy>=1.0.4 (from Prophet)\n",
      "  Using cached cmdstanpy-1.2.4-py3-none-any.whl.metadata (4.1 kB)\n",
      "Requirement already satisfied: numpy>=1.15.4 in c:\\users\\greg\\appdata\\local\\packages\\pythonsoftwarefoundation.python.3.11_qbz5n2kfra8p0\\localcache\\local-packages\\python311\\site-packages (from Prophet) (1.24.3)\n",
      "Requirement already satisfied: matplotlib>=2.0.0 in c:\\users\\greg\\appdata\\local\\packages\\pythonsoftwarefoundation.python.3.11_qbz5n2kfra8p0\\localcache\\local-packages\\python311\\site-packages (from Prophet) (3.9.2)\n",
      "Requirement already satisfied: pandas>=1.0.4 in c:\\users\\greg\\appdata\\local\\packages\\pythonsoftwarefoundation.python.3.11_qbz5n2kfra8p0\\localcache\\local-packages\\python311\\site-packages (from Prophet) (2.0.1)\n",
      "Collecting holidays<1,>=0.25 (from Prophet)\n",
      "  Using cached holidays-0.59-py3-none-any.whl.metadata (25 kB)\n",
      "Collecting tqdm>=4.36.1 (from Prophet)\n",
      "  Using cached tqdm-4.66.6-py3-none-any.whl.metadata (57 kB)\n",
      "Collecting importlib-resources (from Prophet)\n",
      "  Using cached importlib_resources-6.4.5-py3-none-any.whl.metadata (4.0 kB)\n",
      "Collecting stanio<2.0.0,>=0.4.0 (from cmdstanpy>=1.0.4->Prophet)\n",
      "  Using cached stanio-0.5.1-py3-none-any.whl.metadata (1.6 kB)\n",
      "Requirement already satisfied: python-dateutil in c:\\users\\greg\\appdata\\local\\packages\\pythonsoftwarefoundation.python.3.11_qbz5n2kfra8p0\\localcache\\local-packages\\python311\\site-packages (from holidays<1,>=0.25->Prophet) (2.8.2)\n",
      "Requirement already satisfied: contourpy>=1.0.1 in c:\\users\\greg\\appdata\\local\\packages\\pythonsoftwarefoundation.python.3.11_qbz5n2kfra8p0\\localcache\\local-packages\\python311\\site-packages (from matplotlib>=2.0.0->Prophet) (1.3.0)\n",
      "Requirement already satisfied: cycler>=0.10 in c:\\users\\greg\\appdata\\local\\packages\\pythonsoftwarefoundation.python.3.11_qbz5n2kfra8p0\\localcache\\local-packages\\python311\\site-packages (from matplotlib>=2.0.0->Prophet) (0.12.1)\n",
      "Requirement already satisfied: fonttools>=4.22.0 in c:\\users\\greg\\appdata\\local\\packages\\pythonsoftwarefoundation.python.3.11_qbz5n2kfra8p0\\localcache\\local-packages\\python311\\site-packages (from matplotlib>=2.0.0->Prophet) (4.54.1)\n",
      "Requirement already satisfied: kiwisolver>=1.3.1 in c:\\users\\greg\\appdata\\local\\packages\\pythonsoftwarefoundation.python.3.11_qbz5n2kfra8p0\\localcache\\local-packages\\python311\\site-packages (from matplotlib>=2.0.0->Prophet) (1.4.7)\n",
      "Requirement already satisfied: packaging>=20.0 in c:\\users\\greg\\appdata\\local\\packages\\pythonsoftwarefoundation.python.3.11_qbz5n2kfra8p0\\localcache\\local-packages\\python311\\site-packages (from matplotlib>=2.0.0->Prophet) (23.1)\n",
      "Requirement already satisfied: pillow>=8 in c:\\users\\greg\\appdata\\local\\packages\\pythonsoftwarefoundation.python.3.11_qbz5n2kfra8p0\\localcache\\local-packages\\python311\\site-packages (from matplotlib>=2.0.0->Prophet) (11.0.0)\n",
      "Requirement already satisfied: pyparsing>=2.3.1 in c:\\users\\greg\\appdata\\local\\packages\\pythonsoftwarefoundation.python.3.11_qbz5n2kfra8p0\\localcache\\local-packages\\python311\\site-packages (from matplotlib>=2.0.0->Prophet) (3.1.4)\n",
      "Requirement already satisfied: pytz>=2020.1 in c:\\users\\greg\\appdata\\local\\packages\\pythonsoftwarefoundation.python.3.11_qbz5n2kfra8p0\\localcache\\local-packages\\python311\\site-packages (from pandas>=1.0.4->Prophet) (2023.3)\n",
      "Requirement already satisfied: tzdata>=2022.1 in c:\\users\\greg\\appdata\\local\\packages\\pythonsoftwarefoundation.python.3.11_qbz5n2kfra8p0\\localcache\\local-packages\\python311\\site-packages (from pandas>=1.0.4->Prophet) (2023.3)\n",
      "Requirement already satisfied: colorama in c:\\users\\greg\\appdata\\local\\packages\\pythonsoftwarefoundation.python.3.11_qbz5n2kfra8p0\\localcache\\local-packages\\python311\\site-packages (from tqdm>=4.36.1->Prophet) (0.4.6)\n",
      "Requirement already satisfied: six>=1.5 in c:\\users\\greg\\appdata\\local\\packages\\pythonsoftwarefoundation.python.3.11_qbz5n2kfra8p0\\localcache\\local-packages\\python311\\site-packages (from python-dateutil->holidays<1,>=0.25->Prophet) (1.16.0)\n",
      "Using cached prophet-1.1.6-py3-none-win_amd64.whl (13.3 MB)\n",
      "Using cached cmdstanpy-1.2.4-py3-none-any.whl (94 kB)\n",
      "Using cached holidays-0.59-py3-none-any.whl (1.1 MB)\n",
      "Using cached tqdm-4.66.6-py3-none-any.whl (78 kB)\n",
      "Using cached importlib_resources-6.4.5-py3-none-any.whl (36 kB)\n",
      "Using cached stanio-0.5.1-py3-none-any.whl (8.1 kB)\n",
      "Installing collected packages: tqdm, stanio, importlib-resources, holidays, cmdstanpy, Prophet\n"
     ]
    }
   ],
   "source": [
    "#Imports\n",
    "import pandas as pd\n",
    "import os\n",
    "from google.cloud import bigquery\n",
    "from datetime import datetime, date, timedelta\n",
    "import re\n",
    "import calendar\n",
    "import seaborn as sns\n",
    "import plotly.express as px\n",
    "from plotly.subplots import make_subplots\n",
    "import plotly.graph_objects as go\n",
    "from PIL import Image\n",
    "\n",
    "%pip install Prophet \n",
    "from prophet import Prophet \n",
    "\n",
    "pd.set_option('display.max_rows', None)\n",
    "pd.options.mode.chained_assignment = None  # default='warn'\n",
    "\n",
    "from pathlib import Path "
   ]
  },
  {
   "cell_type": "code",
   "execution_count": null,
   "metadata": {},
   "outputs": [],
   "source": [
    "#Bigquery credentials/Date transformations\n",
    "os.environ[\"GOOGLE_APPLICATION_CREDENTIALS\"]=r\"C:\\Users\\Greg\\OneDrive - Consumer Edge Research LLC\\Desktop\\Python\\gcp-key-2.json\"\n",
    "#C:\\Users\\Greg\\AppData\\Local\\Programs\\Python\\Python39\\gcp-key-2.json\n",
    "#C:\\Users\\Greg\\OneDrive - Consumer Edge Research LLC\\Desktop\\Python\\gcp-key-2.json\n",
    "client = bigquery.Client()\n",
    "\n",
    "#Trans_date transformations\n",
    "def date_transf(df):\n",
    "    df['trans_date_dt'] = pd.to_datetime(df['trans_date'], format = \"%Y-%m-%d\", errors = 'coerce')\n",
    "    df['year'] = df['trans_date_dt'].dt.year.astype(str)\n",
    "    df['month'] = df['trans_date_dt'].dt.month.apply(lambda x: calendar.month_abbr[x])\n",
    "    df['norm_date'] = df['trans_date_dt'].dt.strftime(\"%m/%d/%Y\")\n",
    "    df['period'] = df['trans_date_dt'].dt.to_period('Q')\n",
    "    df['norm_date_ya'] = df['norm_date'].shift(364)"
   ]
  },
  {
   "cell_type": "code",
   "execution_count": null,
   "metadata": {},
   "outputs": [],
   "source": [
    "raw_hist_sql = 'SELECT distinct emax.segment_name, emax.brand_name, emax.trans_date, emax.cardtype, emax.spend_amount_usd, emax.trans_count FROM `beta-omega-alpha-theta.apollo_us_cube_daily_signal.day_sym_seg_brand_cardtype_emax` as emax LEFT JOIN `beta-omega-alpha-theta.ground_truth.symbol_detail` as sym_det ON emax.symbol_id = sym_det.symbol_id LEFT JOIN `beta-omega-alpha-theta.ground_truth.industry_list` as ind ON sym_det.subindustry_id = ind.subindustry_id LEFT JOIN `beta-omega-alpha-theta.ground_truth.symbol_segment` sym_seg ON emax.segment_name = sym_seg.segment_name LEFT JOIN `beta-omega-alpha-theta.ground_truth.segment_product` seg_prod ON sym_seg.segment_id = seg_prod.segment_id where seg_prod.primary_segment_flag = 1 and product_id = 1000 and emax.segment_name NOT LIKE \"%ACQ%\" and emax.segment_name NOT LIKE \"%DLST%\" and sym_det.ownership_status NOT LIKE \"%Private%\"'\n",
    "raw_hist_df = client.query(raw_hist_sql).to_dataframe()"
   ]
  }
 ],
 "metadata": {
  "kernelspec": {
   "display_name": "Python 3",
   "language": "python",
   "name": "python3"
  },
  "language_info": {
   "codemirror_mode": {
    "name": "ipython",
    "version": 3
   },
   "file_extension": ".py",
   "mimetype": "text/x-python",
   "name": "python",
   "nbconvert_exporter": "python",
   "pygments_lexer": "ipython3",
   "version": "3.11.9"
  }
 },
 "nbformat": 4,
 "nbformat_minor": 2
}
